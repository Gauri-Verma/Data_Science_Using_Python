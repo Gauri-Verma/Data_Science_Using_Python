{
 "cells": [
  {
   "cell_type": "code",
   "execution_count": 2,
   "id": "ffb4b585",
   "metadata": {},
   "outputs": [],
   "source": [
    "import numpy as np"
   ]
  },
  {
   "cell_type": "code",
   "execution_count": 2,
   "id": "9e5d55de",
   "metadata": {},
   "outputs": [
    {
     "name": "stdout",
     "output_type": "stream",
     "text": [
      "[1 2 3 4 5]\n",
      "<class 'numpy.ndarray'>\n"
     ]
    }
   ],
   "source": [
    "a=np.array([1,2,3,4,5])\n",
    "print(a)\n",
    "print(type(a))"
   ]
  },
  {
   "cell_type": "code",
   "execution_count": 3,
   "id": "cf829b4f",
   "metadata": {},
   "outputs": [
    {
     "name": "stdout",
     "output_type": "stream",
     "text": [
      "[1.  2.  3.7 4.7 5.5]\n",
      "<class 'numpy.ndarray'>\n"
     ]
    }
   ],
   "source": [
    "b=np.array([1,2,3.7,4.7,5.5])\n",
    "print(b)\n",
    "print(type(b))"
   ]
  },
  {
   "cell_type": "code",
   "execution_count": 4,
   "id": "06fb705b",
   "metadata": {},
   "outputs": [
    {
     "name": "stdout",
     "output_type": "stream",
     "text": [
      "['a' 'b' 'c' 'd']\n",
      "<class 'numpy.ndarray'>\n"
     ]
    }
   ],
   "source": [
    "c=np.array(['a','b','c','d'])\n",
    "print(c)\n",
    "print(type(c))"
   ]
  },
  {
   "cell_type": "code",
   "execution_count": 5,
   "id": "87f36a72",
   "metadata": {},
   "outputs": [
    {
     "data": {
      "text/plain": [
       "dtype('int32')"
      ]
     },
     "execution_count": 5,
     "metadata": {},
     "output_type": "execute_result"
    }
   ],
   "source": [
    "#checking data type of array\n",
    "a.dtype"
   ]
  },
  {
   "cell_type": "code",
   "execution_count": 6,
   "id": "d481cf43",
   "metadata": {},
   "outputs": [
    {
     "data": {
      "text/plain": [
       "dtype('float64')"
      ]
     },
     "execution_count": 6,
     "metadata": {},
     "output_type": "execute_result"
    }
   ],
   "source": [
    "b.dtype"
   ]
  },
  {
   "cell_type": "code",
   "execution_count": 7,
   "id": "2aed266c",
   "metadata": {},
   "outputs": [
    {
     "data": {
      "text/plain": [
       "dtype('<U1')"
      ]
     },
     "execution_count": 7,
     "metadata": {},
     "output_type": "execute_result"
    }
   ],
   "source": [
    "c.dtype"
   ]
  },
  {
   "cell_type": "code",
   "execution_count": 8,
   "id": "175f4045",
   "metadata": {},
   "outputs": [
    {
     "data": {
      "text/plain": [
       "1"
      ]
     },
     "execution_count": 8,
     "metadata": {},
     "output_type": "execute_result"
    }
   ],
   "source": [
    "# to check dimension of array\n",
    "a.ndim"
   ]
  },
  {
   "cell_type": "code",
   "execution_count": 9,
   "id": "d9087f53",
   "metadata": {},
   "outputs": [],
   "source": [
    "# to make a 2-D array\n",
    "#a=np.array([[ist row],[2nd row],[3rd row]])\n"
   ]
  },
  {
   "cell_type": "code",
   "execution_count": 10,
   "id": "0f1ad58e",
   "metadata": {},
   "outputs": [
    {
     "name": "stdout",
     "output_type": "stream",
     "text": [
      "[[ 1  2  3  4]\n",
      " [ 3  4  5  6]\n",
      " [ 3  8  9 10]]\n",
      "<class 'numpy.ndarray'>\n"
     ]
    }
   ],
   "source": [
    "a=np.array([[1,2,3,4],[3,4,5,6],[3,8,9,10]])\n",
    "print(a)\n",
    "print(type(a))"
   ]
  },
  {
   "cell_type": "code",
   "execution_count": 11,
   "id": "e8441b4a",
   "metadata": {},
   "outputs": [
    {
     "name": "stdout",
     "output_type": "stream",
     "text": [
      "\n",
      " A numpy array: \n",
      " [[1 3]\n",
      " [3 4]\n",
      " [5 6]]\n",
      "\n",
      " Type :  <class 'numpy.ndarray'>\n",
      "\n",
      " Dtype :  int32\n",
      "\n",
      " NDim :  2\n",
      "\n",
      " ItemSize :  4\n",
      "\n",
      " Shape :  (3, 2)\n",
      "\n",
      " NBytes :  24\n"
     ]
    }
   ],
   "source": [
    "numpy_array = np.array([[1,3], [3,4], [5,6]])\n",
    "\n",
    "print(\"\\n A numpy array: \\n\" , numpy_array)\n",
    "print(\"\\n Type : \", type(numpy_array))\n",
    "print(\"\\n Dtype : \" , numpy_array.dtype)\n",
    "print(\"\\n NDim : \" , numpy_array.ndim) # Dimensions of numpy array\n",
    "print(\"\\n ItemSize : \" , numpy_array.itemsize) # size of a single element in the numpy array\n",
    "\n",
    "#Shape of numpy array in (rows,columns)the shape of an array is a tuple of integers giving \n",
    "#the size of the array along each dimension.\n",
    "\n",
    "print(\"\\n Shape : \" , numpy_array.shape)\n",
    "print(\"\\n NBytes : \" , numpy_array.nbytes)"
   ]
  },
  {
   "cell_type": "code",
   "execution_count": 5,
   "id": "0fce84c2",
   "metadata": {},
   "outputs": [
    {
     "name": "stdout",
     "output_type": "stream",
     "text": [
      "[1.7 2.9 3.7 4.7 5.5]\n",
      "<class 'numpy.ndarray'>\n",
      "1\n",
      "(5,)\n",
      "40\n"
     ]
    }
   ],
   "source": [
    "x=np.array([1.7,2.9,3.7,4.7,5.5])\n",
    "print(x)\n",
    "print(type(x))\n",
    "print(x.ndim)\n",
    "print(x.shape)\n",
    "print(x.nbytes)\n"
   ]
  },
  {
   "cell_type": "code",
   "execution_count": 15,
   "id": "92102767",
   "metadata": {},
   "outputs": [
    {
     "name": "stdout",
     "output_type": "stream",
     "text": [
      "\n",
      " A numpy array: \n",
      " [1.  2.  3.7 4.7 5.5]\n",
      "\n",
      " Type :  <class 'numpy.ndarray'>\n",
      "\n",
      " Dtype :  float64\n",
      "\n",
      " NDim :  1\n",
      "\n",
      " ItemSize :  8\n",
      "\n",
      " Shape :  (5,)\n",
      "\n",
      " NBytes :  40\n"
     ]
    }
   ],
   "source": [
    "new =np.array([1,2,3.7,4.7,5.5])\n",
    "print(\"\\n A numpy array: \\n\" , new)\n",
    "print(\"\\n Type : \", type(new))\n",
    "print(\"\\n Dtype : \" , new.dtype)\n",
    "print(\"\\n NDim : \" , new.ndim)\n",
    "print(\"\\n ItemSize : \" , new.itemsize) \n",
    "\n",
    "\n",
    "print(\"\\n Shape : \" , new.shape)\n",
    "print(\"\\n NBytes : \" , new.nbytes)"
   ]
  },
  {
   "cell_type": "code",
   "execution_count": 19,
   "id": "4f1582d6",
   "metadata": {},
   "outputs": [
    {
     "name": "stdout",
     "output_type": "stream",
     "text": [
      "[['j' 'k']\n",
      " ['g' 'a']\n",
      " ['5' '6']]\n"
     ]
    }
   ],
   "source": [
    "y= np.array([[\"j\",\"k\"], [\"g\",\"a\"], [\"5\",\"6\"]])\n",
    "print(y)"
   ]
  },
  {
   "cell_type": "code",
   "execution_count": 20,
   "id": "f9813dca",
   "metadata": {},
   "outputs": [
    {
     "name": "stdout",
     "output_type": "stream",
     "text": [
      "\n",
      " Type :  <class 'numpy.ndarray'>\n",
      "\n",
      " Dtype :  <U5\n",
      "\n",
      " NDim :  2\n",
      "\n",
      " ItemSize :  20\n",
      "\n",
      " Shape :  (3, 2)\n",
      "\n",
      " NBytes :  120\n"
     ]
    }
   ],
   "source": [
    "# make a 3*2 char matrix\n",
    "\n",
    "new = np.array([['abs','bgh'], ['123','dhhjk'], ['3345','ffgh']])\n",
    "new\n",
    "print(\"\\n Type : \", type(new))\n",
    "print(\"\\n Dtype : \" , new.dtype)\n",
    "print(\"\\n NDim : \" , new.ndim)\n",
    "print(\"\\n ItemSize : \" , new.itemsize) \n",
    "\n",
    "\n",
    "print(\"\\n Shape : \" , new.shape)\n",
    "print(\"\\n NBytes : \" , new.nbytes)"
   ]
  },
  {
   "cell_type": "code",
   "execution_count": 21,
   "id": "98871909",
   "metadata": {},
   "outputs": [
    {
     "name": "stdout",
     "output_type": "stream",
     "text": [
      "[[1 2]\n",
      " [3 4]\n",
      " [5 6]]\n",
      "int32\n"
     ]
    }
   ],
   "source": [
    "#External Typecasting of numpy arrays\n",
    "\n",
    "arr_fl = np.array([[1,2], [3,4], [5,6]])\n",
    "print( arr_fl)\n",
    "print(arr_fl.dtype)"
   ]
  },
  {
   "cell_type": "code",
   "execution_count": 22,
   "id": "cf2eb4aa",
   "metadata": {},
   "outputs": [
    {
     "name": "stdout",
     "output_type": "stream",
     "text": [
      " A Float Array: \n",
      " [[1. 2.]\n",
      " [3. 4.]\n",
      " [5. 6.]]\n",
      "float64\n"
     ]
    }
   ],
   "source": [
    "arr_fl = np.array([[1,2], [3,4], [5,6]] , dtype = np.float64)\n",
    "print(\" A Float Array: \\n\" , arr_fl)\n",
    "print(arr_fl.dtype)"
   ]
  },
  {
   "cell_type": "code",
   "execution_count": 27,
   "id": "63f91306",
   "metadata": {},
   "outputs": [
    {
     "name": "stdout",
     "output_type": "stream",
     "text": [
      "[[1.1 2.2]\n",
      " [3.5 4.6]\n",
      " [5.2 6.1]]\n",
      " \n",
      "\n",
      "Integer Array: \n",
      " [[1 2]\n",
      " [3 4]\n",
      " [5 6]]\n"
     ]
    }
   ],
   "source": [
    "# can you predict the answer\n",
    "arr_comp = np.array([[1.1,2.2], [3.5,4.6], [5.2,6.1]])\n",
    "print(arr_comp)\n",
    "arr_comp = np.array([[1.1,2.2], [3.5,4.6], [5.2,6.1]] , dtype = np.int32)\n",
    "print(\" \\n\\nInteger Array: \\n\" , arr_comp)"
   ]
  },
  {
   "cell_type": "code",
   "execution_count": 28,
   "id": "011adb22",
   "metadata": {},
   "outputs": [
    {
     "data": {
      "text/plain": [
       "array([[0., 0., 0.],\n",
       "       [0., 0., 0.]])"
      ]
     },
     "execution_count": 28,
     "metadata": {},
     "output_type": "execute_result"
    }
   ],
   "source": [
    "# creating array of zeros\n",
    "\n",
    "z=np.zeros((2,3))\n",
    "z"
   ]
  },
  {
   "cell_type": "code",
   "execution_count": 29,
   "id": "1cab1bbe",
   "metadata": {},
   "outputs": [
    {
     "data": {
      "text/plain": [
       "array([[1., 1., 1.],\n",
       "       [1., 1., 1.],\n",
       "       [1., 1., 1.],\n",
       "       [1., 1., 1.]])"
      ]
     },
     "execution_count": 29,
     "metadata": {},
     "output_type": "execute_result"
    }
   ],
   "source": [
    "# creating array of ones\n",
    "\n",
    "o=np.ones((4,3))\n",
    "o"
   ]
  },
  {
   "cell_type": "code",
   "execution_count": 8,
   "id": "d340f458",
   "metadata": {},
   "outputs": [
    {
     "data": {
      "text/plain": [
       "array([[1., 0., 0., 0., 0.],\n",
       "       [0., 1., 0., 0., 0.],\n",
       "       [0., 0., 1., 0., 0.],\n",
       "       [0., 0., 0., 1., 0.],\n",
       "       [0., 0., 0., 0., 1.]])"
      ]
     },
     "execution_count": 8,
     "metadata": {},
     "output_type": "execute_result"
    }
   ],
   "source": [
    "# for creating identity matrix\n",
    "e=np.eye((5))\n",
    "e"
   ]
  },
  {
   "cell_type": "code",
   "execution_count": 31,
   "id": "86d32cea",
   "metadata": {},
   "outputs": [
    {
     "data": {
      "text/plain": [
       "array([[2.5, 2.5, 2.5, 2.5, 2.5, 2.5, 2.5],\n",
       "       [2.5, 2.5, 2.5, 2.5, 2.5, 2.5, 2.5],\n",
       "       [2.5, 2.5, 2.5, 2.5, 2.5, 2.5, 2.5],\n",
       "       [2.5, 2.5, 2.5, 2.5, 2.5, 2.5, 2.5]])"
      ]
     },
     "execution_count": 31,
     "metadata": {},
     "output_type": "execute_result"
    }
   ],
   "source": [
    "#Array filled with a constant\n",
    "\n",
    "full_array = np.full((4,7), 2.5)\n",
    "full_array"
   ]
  },
  {
   "cell_type": "code",
   "execution_count": 32,
   "id": "d2f1fc24",
   "metadata": {},
   "outputs": [
    {
     "name": "stdout",
     "output_type": "stream",
     "text": [
      "An array with range 7 :  [0 1 2 3 4 5 6]\n",
      "<class 'numpy.ndarray'>\n",
      "int32\n",
      "1\n",
      "(7,)\n"
     ]
    }
   ],
   "source": [
    "#Array with arange() function\n",
    "\n",
    "A = np.arange(7)\n",
    "print(\"An array with range 7 : \" , A)\n",
    "print(type(A))\n",
    "print(A.dtype)\n",
    "print(A.ndim)\n",
    "print(A.shape)"
   ]
  },
  {
   "cell_type": "code",
   "execution_count": 33,
   "id": "21021bfc",
   "metadata": {},
   "outputs": [
    {
     "name": "stdout",
     "output_type": "stream",
     "text": [
      "[ 4  5  6  7  8  9 10 11 12 13 14 15 16 17 18 19 20]\n"
     ]
    }
   ],
   "source": [
    "b=np.arange(4,21)\n",
    "print(b)"
   ]
  },
  {
   "cell_type": "code",
   "execution_count": 34,
   "id": "2e63b9cf",
   "metadata": {},
   "outputs": [
    {
     "name": "stdout",
     "output_type": "stream",
     "text": [
      "[ 4  6  8 10 12 14 16 18 20]\n"
     ]
    }
   ],
   "source": [
    "b=np.arange(4,21,2)\n",
    "print(b)"
   ]
  },
  {
   "cell_type": "code",
   "execution_count": 37,
   "id": "033ea060",
   "metadata": {},
   "outputs": [
    {
     "name": "stdout",
     "output_type": "stream",
     "text": [
      "[ 3  6  9 12 15 18 21 24 27]\n"
     ]
    }
   ],
   "source": [
    "b=np.arange(3,28,3)\n",
    "print(b)"
   ]
  },
  {
   "cell_type": "code",
   "execution_count": 39,
   "id": "19c5515b",
   "metadata": {},
   "outputs": [
    {
     "name": "stdout",
     "output_type": "stream",
     "text": [
      "[[0.71611666 0.31172593]\n",
      " [0.90132199 0.89401013]\n",
      " [0.69963558 0.72808608]\n",
      " [0.30384454 0.46980599]]\n"
     ]
    }
   ],
   "source": [
    "# To generate Random nos.\n",
    "\n",
    "ran_arr = np.random.random((4, 2))\n",
    "print(ran_arr)"
   ]
  },
  {
   "cell_type": "code",
   "execution_count": 40,
   "id": "cc909529",
   "metadata": {},
   "outputs": [
    {
     "data": {
      "text/plain": [
       "array([[5, 0, 9, 5],\n",
       "       [1, 4, 9, 7],\n",
       "       [5, 5, 2, 6]])"
      ]
     },
     "execution_count": 40,
     "metadata": {},
     "output_type": "execute_result"
    }
   ],
   "source": [
    "# to generate integer random nos.\n",
    "\n",
    "np.random.randint(0, 10, (3, 4))"
   ]
  },
  {
   "cell_type": "code",
   "execution_count": 9,
   "id": "a5ff6d51",
   "metadata": {},
   "outputs": [],
   "source": [
    "import numpy as np"
   ]
  },
  {
   "cell_type": "code",
   "execution_count": 13,
   "id": "78a12713",
   "metadata": {},
   "outputs": [
    {
     "name": "stdout",
     "output_type": "stream",
     "text": [
      "['abcd']\n"
     ]
    }
   ],
   "source": [
    "#numpy with strings\n",
    "a=np.array([\"ab\"])\n",
    "b=np.array([\"cd\"])\n",
    "print(np.char.add(a,b))"
   ]
  },
  {
   "cell_type": "raw",
   "id": "51b68a17",
   "metadata": {},
   "source": []
  },
  {
   "cell_type": "code",
   "execution_count": 25,
   "id": "bafa7c51",
   "metadata": {},
   "outputs": [
    {
     "name": "stdout",
     "output_type": "stream",
     "text": [
      "\n",
      " array 1 is:\n",
      " [['hey' 'user']\n",
      " ['welcom' 'to the site']]\n",
      "\n",
      " array 2 is: \n",
      " [['123']\n",
      " ['345']]\n",
      "\n",
      " concatinated array \n",
      " [['hey123' 'user123']\n",
      " ['welcom345' 'to the site345']]\n"
     ]
    }
   ],
   "source": [
    "array1=np.array([[\"hey\",\"user\"],[\"welcom\",\"to the site\"]])\n",
    "array2=np.array([[\"123\"],[\"345\"]])\n",
    "print(\"\\n array 1 is:\\n\",array1)\n",
    "print(\"\\n array 2 is: \\n\",array2)\n",
    "c=np.char.add(array1,array2)\n",
    "print(\"\\n concatinated array \\n\",c)\n"
   ]
  },
  {
   "cell_type": "code",
   "execution_count": 27,
   "id": "8c4de928",
   "metadata": {},
   "outputs": [
    {
     "name": "stdout",
     "output_type": "stream",
     "text": [
      "\n",
      " array is \n",
      " [['xyz' 'no']\n",
      " ['ha' 'jo']]\n",
      "[['xyzxyzxyz' 'nonono']\n",
      " ['hahaha' 'jojojo']]\n"
     ]
    }
   ],
   "source": [
    "#replication of array elements\n",
    "arr=np.array([[\"xyz\",\"no\"],[\"ha\",\"jo\"]])\n",
    "print(\"\\n array is \\n\",arr)\n",
    "mult_array=np.char.multiply(arr,3)\n",
    "print(mult_array)"
   ]
  },
  {
   "cell_type": "code",
   "execution_count": 31,
   "id": "3cdc8a15",
   "metadata": {},
   "outputs": [
    {
     "name": "stdout",
     "output_type": "stream",
     "text": [
      "['My name is gauri']\n"
     ]
    }
   ],
   "source": [
    "#capitalizing\n",
    "n_array=np.array([\"my name is gauri\"])\n",
    "cap=np.char.capitalize(n_array)\n",
    "print(cap)"
   ]
  },
  {
   "cell_type": "code",
   "execution_count": 33,
   "id": "a31c8aef",
   "metadata": {},
   "outputs": [
    {
     "name": "stdout",
     "output_type": "stream",
     "text": [
      "[['Gauri' 'Oshu']\n",
      " ['Ashi' 'Har']]\n"
     ]
    }
   ],
   "source": [
    "c_array=([[\"gaurI\",\"OSHU\"],[\"aSHI\",\"Har\"]])\n",
    "cap=np.char.capitalize(c_array)\n",
    "print(cap)"
   ]
  },
  {
   "cell_type": "code",
   "execution_count": 36,
   "id": "3b16c2ce",
   "metadata": {},
   "outputs": [
    {
     "name": "stdout",
     "output_type": "stream",
     "text": [
      "\n",
      " [['GAUri' 'hAr']\n",
      " ['miss' 'bOb']]\n",
      "[['GAURI' 'HAR']\n",
      " ['MISS' 'BOB']]\n",
      "[['gauri' 'har']\n",
      " ['miss' 'bob']]\n"
     ]
    }
   ],
   "source": [
    "#converting to lower and upper case\n",
    "x=np.array([[\"GAUri\",\"hAr\"],[\"miss\",\"bOb\"]])\n",
    "print(\"\\n\",x)\n",
    "uc=np.char.upper(x)\n",
    "print(uc)\n",
    "lc=np.char.lower(x)\n",
    "print(lc)"
   ]
  },
  {
   "cell_type": "code",
   "execution_count": 37,
   "id": "07ea6171",
   "metadata": {},
   "outputs": [
    {
     "name": "stdout",
     "output_type": "stream",
     "text": [
      "[list(['hey', 'how', 'are', 'you'])]\n"
     ]
    }
   ],
   "source": [
    "#splitting string        #converts array into list and split \n",
    "s=np.array([\"hey how are you\"])\n",
    "sp=np.char.split(s)\n",
    "print(sp)"
   ]
  },
  {
   "cell_type": "code",
   "execution_count": 44,
   "id": "d7b7a8c5",
   "metadata": {},
   "outputs": [
    {
     "name": "stdout",
     "output_type": "stream",
     "text": [
      "[list(['hey', ' how are you', ' naman'])]\n"
     ]
    }
   ],
   "source": [
    "s=np.array([\"hey, how are you, naman\"])\n",
    "sp=np.char.split(s,sep=\",\")\n",
    "print(sp)"
   ]
  },
  {
   "cell_type": "code",
   "execution_count": 55,
   "id": "f63d615a",
   "metadata": {},
   "outputs": [
    {
     "name": "stdout",
     "output_type": "stream",
     "text": [
      "['ey how who']\n"
     ]
    }
   ],
   "source": [
    "#strip\n",
    "print(np.char.strip([\"hey how who\"],\"h\"))\n"
   ]
  },
  {
   "cell_type": "code",
   "execution_count": 62,
   "id": "43836b25",
   "metadata": {},
   "outputs": [
    {
     "name": "stdout",
     "output_type": "stream",
     "text": [
      "['ey' 'owe' 'who']\n"
     ]
    }
   ],
   "source": [
    "print(np.char.strip([\"hey\", \"howe\",\"whoh\"],\"h\"))\n"
   ]
  },
  {
   "cell_type": "code",
   "execution_count": 61,
   "id": "8d9e37d7",
   "metadata": {},
   "outputs": [
    {
     "name": "stdout",
     "output_type": "stream",
     "text": [
      "['y' 'w' 'w']\n"
     ]
    }
   ],
   "source": [
    "print(np.char.strip([\"hey\", \"howe\",\"whoh\"],\"heo\"))"
   ]
  },
  {
   "cell_type": "markdown",
   "id": "fcee46b4",
   "metadata": {},
   "source": [
    "##join"
   ]
  },
  {
   "cell_type": "code",
   "execution_count": 65,
   "id": "c55f1565",
   "metadata": {},
   "outputs": [
    {
     "name": "stdout",
     "output_type": "stream",
     "text": [
      "['a*b*c*d' 'h-e-l-l-o' 'g@o@o@d']\n"
     ]
    }
   ],
   "source": [
    "#ex-input[\"abcd\",\"hello\",\"good\"]\n",
    "#outpit[\"a*b*c*d\",\"h-e-l-l-o\",\"g@o@o@d\"]\n",
    "a=np.char.join([\"*\",\"-\",\"@\"],[\"abcd\",\"hello\",\"good\"])\n",
    "print(a)"
   ]
  },
  {
   "cell_type": "code",
   "execution_count": 67,
   "id": "14713d68",
   "metadata": {},
   "outputs": [
    {
     "name": "stdout",
     "output_type": "stream",
     "text": [
      "Gauri is the best\n"
     ]
    }
   ],
   "source": [
    "#Replacing with specific contend\n",
    "a=np.char.replace(\"Gauri is amazing\",\"amazing\",\"the best\")\n",
    "print(a)"
   ]
  },
  {
   "cell_type": "code",
   "execution_count": 68,
   "id": "125c879e",
   "metadata": {},
   "outputs": [
    {
     "name": "stdout",
     "output_type": "stream",
     "text": [
      "[['he likes painting' 'he likes yoga']\n",
      " ['she likes to travel ' 'she likes him']]\n",
      "[['he love painting' 'he love yoga']\n",
      " ['she love to travel ' 'she love him']]\n"
     ]
    }
   ],
   "source": [
    "a=np.array([[\"he likes painting\",\"he likes yoga\"],[\"she likes to travel \",\"she likes him\"]])\n",
    "print(a)\n",
    "rep=np.char.replace(a,\"likes\",\"love\")\n",
    "print(rep)"
   ]
  },
  {
   "cell_type": "code",
   "execution_count": 72,
   "id": "19eec6b9",
   "metadata": {},
   "outputs": [
    {
     "name": "stdout",
     "output_type": "stream",
     "text": [
      "[[ 2  3  4]\n",
      " [ 5  6  7]\n",
      " [ 8  9 10]]\n",
      "6\n"
     ]
    }
   ],
   "source": [
    "#array manipulation in multidimentional array\n",
    "a=np.array([[2,3,4],[5,6,7],[8,9,10]])\n",
    "print(a)\n",
    "print(a[1,1])"
   ]
  },
  {
   "cell_type": "code",
   "execution_count": 80,
   "id": "e1c6aa3c",
   "metadata": {},
   "outputs": [
    {
     "name": "stdout",
     "output_type": "stream",
     "text": [
      "[[ 2  3  4]\n",
      " [ 5  6  7]\n",
      " [ 8  9 10]\n",
      " [ 4  7  6]\n",
      " [12  6 54]]\n",
      "new array \n",
      " [[8 9]\n",
      " [4 7]]\n"
     ]
    }
   ],
   "source": [
    "a=np.array([[2,3,4],[5,6,7],[8,9,10],[4,7,6,],[12,6,54]])\n",
    "print(a)\n",
    "print(\"new array \\n\",a[2:4,0:2])"
   ]
  },
  {
   "cell_type": "code",
   "execution_count": 83,
   "id": "4d561f52",
   "metadata": {},
   "outputs": [
    {
     "name": "stdout",
     "output_type": "stream",
     "text": [
      "[[ 2  3  4]\n",
      " [ 5  6  7]\n",
      " [ 8  9 10]\n",
      " [ 4  7  6]\n",
      " [12  6 54]]\n",
      "[[ 2  4]\n",
      " [ 5  7]\n",
      " [ 8 10]\n",
      " [ 4  6]\n",
      " [12 54]]\n"
     ]
    }
   ],
   "source": [
    "print(a)\n",
    "print(a[:,: :2])"
   ]
  },
  {
   "cell_type": "code",
   "execution_count": 87,
   "id": "c496accc",
   "metadata": {},
   "outputs": [
    {
     "name": "stdout",
     "output_type": "stream",
     "text": [
      "[[2 3 4]\n",
      " [4 7 6]]\n"
     ]
    }
   ],
   "source": [
    "print(a[: :3, : :])"
   ]
  },
  {
   "cell_type": "code",
   "execution_count": 111,
   "id": "477d201b",
   "metadata": {},
   "outputs": [
    {
     "name": "stdout",
     "output_type": "stream",
     "text": [
      "[ 1  2  3  4  5  6  7  8  9 10 11 12]\n",
      "\n",
      " [[ 1  2  3]\n",
      " [ 4  5  6]\n",
      " [ 7  8  9]\n",
      " [10 11 12]]\n"
     ]
    }
   ],
   "source": [
    "#Reshaping\n",
    "                       ##CAN CONVERT ONE D ARRAY INTO 2 D ARRAY\n",
    "\n",
    "arr=np.arange(1,13)\n",
    "print(arr)\n",
    "resh=arr.reshape(4,3)\n",
    "print(\"\\n\",resh)"
   ]
  },
  {
   "cell_type": "code",
   "execution_count": 103,
   "id": "836d169d",
   "metadata": {},
   "outputs": [
    {
     "name": "stdout",
     "output_type": "stream",
     "text": [
      "[[ 1  2  3]\n",
      " [ 4  5  6]\n",
      " [ 7  8  9]\n",
      " [10 11 12]]\n"
     ]
    }
   ],
   "source": [
    "#ex- take 12 elements using arange(),convert it into all possible 2d combos\n",
    "a=np.arange(1,13)\n",
    "\n",
    "#print(a.reshape(2,6))\n",
    "#print(a.reshape(3,4))\n",
    "#print(a.reshape(6,2))\n",
    "print(a.reshape(4,3))"
   ]
  },
  {
   "cell_type": "code",
   "execution_count": 114,
   "id": "e34c7c6f",
   "metadata": {},
   "outputs": [
    {
     "name": "stdout",
     "output_type": "stream",
     "text": [
      "[[ 1  2  3  9]\n",
      " [ 4  5  6  8]\n",
      " [ 7  8  9 45]]\n"
     ]
    }
   ],
   "source": [
    "#Resizeing an array\n",
    "a=np.array([[1,2,3,9],[4,5,6,8],[7,8,9,45]])\n",
    "print(np.resize(a,(3,4)))"
   ]
  },
  {
   "cell_type": "code",
   "execution_count": 116,
   "id": "aa87671d",
   "metadata": {},
   "outputs": [
    {
     "name": "stdout",
     "output_type": "stream",
     "text": [
      "[[ 1  2  3  9  4]\n",
      " [ 5  6  8  7  8]\n",
      " [ 9 45  1  2  3]\n",
      " [ 9  4  5  6  8]\n",
      " [ 7  8  9 45  1]]\n"
     ]
    }
   ],
   "source": [
    "print(np.resize(a,(5,5)))"
   ]
  },
  {
   "cell_type": "code",
   "execution_count": null,
   "id": "bd37bacd",
   "metadata": {},
   "outputs": [],
   "source": []
  }
 ],
 "metadata": {
  "kernelspec": {
   "display_name": "Python 3",
   "language": "python",
   "name": "python3"
  },
  "language_info": {
   "codemirror_mode": {
    "name": "ipython",
    "version": 3
   },
   "file_extension": ".py",
   "mimetype": "text/x-python",
   "name": "python",
   "nbconvert_exporter": "python",
   "pygments_lexer": "ipython3",
   "version": "3.8.8"
  }
 },
 "nbformat": 4,
 "nbformat_minor": 5
}
